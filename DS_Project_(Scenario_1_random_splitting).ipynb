{
 "cells": [
  {
   "cell_type": "markdown",
   "metadata": {
    "id": "SWxDHZwoGdEu"
   },
   "source": [
    "University of Central Asia \n",
    "Naryn, Kyrgyzstan \n",
    "\n",
    "\n",
    "**Data Science Project: Air quality prediction in Bishkek using different machine learning models.** \n",
    "\n",
    "**Scenario 1: Train and Test split by random shuffling without considering seasonal values.**\n",
    "\n",
    "By Meerbek Akimzhanov, Kanykei Mairambekova, Rysgul Nurbekova "
   ]
  },
  {
   "cell_type": "markdown",
   "metadata": {
    "id": "hx1IfomrJFsX"
   },
   "source": [
    "Introduction: In our project, we decided to predict the air pollution index (AQIUS) based on the temperature, PM2.5 and PM10 levels, NO2 gas level on the air, and the humidity to preserve people's health by giving them an early warning about dangerous contaminants in the air. \n",
    "\n",
    "\n",
    "\n",
    "This prediction can be helpful in making the warning apps for the public: people can learn the air pollution level by hour beforehand and decide whether they need to go out at that particular time or not. \n",
    "\n",
    "\n",
    "\n",
    "\n",
    "\n",
    "The dataset originally was taken from http://data.movegreen.kg/ "
   ]
  },
  {
   "cell_type": "markdown",
   "metadata": {
    "id": "OsP4llWRD05j"
   },
   "source": [
    "\n",
    "**Step 1:** importing the dataset"
   ]
  },
  {
   "cell_type": "code",
   "execution_count": 1,
   "metadata": {
    "colab": {
     "base_uri": "https://localhost:8080/",
     "height": 206
    },
    "id": "s1jCzxix0x4H",
    "outputId": "5a15c061-033f-4659-efe2-1a22270f7d48"
   },
   "outputs": [
    {
     "data": {
      "text/html": [
       "<div>\n",
       "<style scoped>\n",
       "    .dataframe tbody tr th:only-of-type {\n",
       "        vertical-align: middle;\n",
       "    }\n",
       "\n",
       "    .dataframe tbody tr th {\n",
       "        vertical-align: top;\n",
       "    }\n",
       "\n",
       "    .dataframe thead th {\n",
       "        text-align: right;\n",
       "    }\n",
       "</style>\n",
       "<table border=\"1\" class=\"dataframe\">\n",
       "  <thead>\n",
       "    <tr style=\"text-align: right;\">\n",
       "      <th></th>\n",
       "      <th>Date and time</th>\n",
       "      <th>PM1 (mkg/m³)</th>\n",
       "      <th>PM10(mkg/m³)</th>\n",
       "      <th>PM2.5(mkg/m³)</th>\n",
       "      <th>NO2(mkg/m³)</th>\n",
       "      <th>Temperature(°C)</th>\n",
       "      <th>Humidity(%)</th>\n",
       "      <th>Atmospheric Pressure</th>\n",
       "      <th>AQIUS</th>\n",
       "    </tr>\n",
       "  </thead>\n",
       "  <tbody>\n",
       "    <tr>\n",
       "      <th>15963</th>\n",
       "      <td>2/9/2022 20:00</td>\n",
       "      <td>14.39</td>\n",
       "      <td>43.23</td>\n",
       "      <td>76.34</td>\n",
       "      <td>29.99</td>\n",
       "      <td>-0.97</td>\n",
       "      <td>84.19</td>\n",
       "      <td>897.32</td>\n",
       "      <td>152.54</td>\n",
       "    </tr>\n",
       "    <tr>\n",
       "      <th>15964</th>\n",
       "      <td>2/9/2022 21:00</td>\n",
       "      <td>11.77</td>\n",
       "      <td>38.49</td>\n",
       "      <td>87.06</td>\n",
       "      <td>30.99</td>\n",
       "      <td>-2.08</td>\n",
       "      <td>83.99</td>\n",
       "      <td>896.93</td>\n",
       "      <td>159.26</td>\n",
       "    </tr>\n",
       "    <tr>\n",
       "      <th>15965</th>\n",
       "      <td>2/9/2022 22:00</td>\n",
       "      <td>12.39</td>\n",
       "      <td>55.00</td>\n",
       "      <td>94.61</td>\n",
       "      <td>27.83</td>\n",
       "      <td>-3.09</td>\n",
       "      <td>82.93</td>\n",
       "      <td>896.70</td>\n",
       "      <td>161.74</td>\n",
       "    </tr>\n",
       "    <tr>\n",
       "      <th>15966</th>\n",
       "      <td>2/9/2022 23:00</td>\n",
       "      <td>7.37</td>\n",
       "      <td>28.10</td>\n",
       "      <td>64.37</td>\n",
       "      <td>26.86</td>\n",
       "      <td>-3.88</td>\n",
       "      <td>81.31</td>\n",
       "      <td>896.42</td>\n",
       "      <td>137.55</td>\n",
       "    </tr>\n",
       "    <tr>\n",
       "      <th>15967</th>\n",
       "      <td>2/10/2022 0:00</td>\n",
       "      <td>10.59</td>\n",
       "      <td>37.52</td>\n",
       "      <td>70.93</td>\n",
       "      <td>25.80</td>\n",
       "      <td>-4.51</td>\n",
       "      <td>79.35</td>\n",
       "      <td>896.06</td>\n",
       "      <td>139.79</td>\n",
       "    </tr>\n",
       "  </tbody>\n",
       "</table>\n",
       "</div>"
      ],
      "text/plain": [
       "        Date and time  PM1 (mkg/m³)  PM10(mkg/m³)  PM2.5(mkg/m³)  NO2(mkg/m³)  \\\n",
       "15963  2/9/2022 20:00         14.39         43.23          76.34        29.99   \n",
       "15964  2/9/2022 21:00         11.77         38.49          87.06        30.99   \n",
       "15965  2/9/2022 22:00         12.39         55.00          94.61        27.83   \n",
       "15966  2/9/2022 23:00          7.37         28.10          64.37        26.86   \n",
       "15967  2/10/2022 0:00         10.59         37.52          70.93        25.80   \n",
       "\n",
       "       Temperature(°C)  Humidity(%)  Atmospheric Pressure   AQIUS  \n",
       "15963            -0.97        84.19                897.32  152.54  \n",
       "15964            -2.08        83.99                896.93  159.26  \n",
       "15965            -3.09        82.93                896.70  161.74  \n",
       "15966            -3.88        81.31                896.42  137.55  \n",
       "15967            -4.51        79.35                896.06  139.79  "
      ]
     },
     "execution_count": 1,
     "metadata": {},
     "output_type": "execute_result"
    }
   ],
   "source": [
    "import pandas as pd\n",
    "path = \"https://project.meerbekakimjano.repl.co/real_data.csv\"\n",
    "data = pd.read_csv(path)\n",
    "# print(data)\n",
    "data.head(100)\n",
    "data.tail()"
   ]
  },
  {
   "cell_type": "markdown",
   "metadata": {
    "id": "JtRnGC7fDx4J"
   },
   "source": [
    "**Step 2:** Pre-processing: handling the missing values and making feature selection. \n",
    "\n",
    "a) The missing values were deleted as their amount was too high in order to eliminate the bias. Even though, half of the data was deleted because of containing the missing values, the amount of data in the another half will be relatively enough to make the prediction modeling without bias. \n",
    "\n"
   ]
  },
  {
   "cell_type": "code",
   "execution_count": 92,
   "metadata": {
    "colab": {
     "base_uri": "https://localhost:8080/",
     "height": 424
    },
    "id": "pMxmf65PEpEo",
    "outputId": "435174eb-2fe8-4122-8db4-6620b45dd92e"
   },
   "outputs": [
    {
     "data": {
      "text/html": [
       "\n",
       "  <div id=\"df-03522ca8-917a-4641-972d-f56748cbd7bd\">\n",
       "    <div class=\"colab-df-container\">\n",
       "      <div>\n",
       "<style scoped>\n",
       "    .dataframe tbody tr th:only-of-type {\n",
       "        vertical-align: middle;\n",
       "    }\n",
       "\n",
       "    .dataframe tbody tr th {\n",
       "        vertical-align: top;\n",
       "    }\n",
       "\n",
       "    .dataframe thead th {\n",
       "        text-align: right;\n",
       "    }\n",
       "</style>\n",
       "<table border=\"1\" class=\"dataframe\">\n",
       "  <thead>\n",
       "    <tr style=\"text-align: right;\">\n",
       "      <th></th>\n",
       "      <th>Date and time</th>\n",
       "      <th>PM1 (mkg/m³)</th>\n",
       "      <th>PM10(mkg/m³)</th>\n",
       "      <th>PM2.5(mkg/m³)</th>\n",
       "      <th>NO2(mkg/m³)</th>\n",
       "      <th>Temperature(°C)</th>\n",
       "      <th>Humidity(%)</th>\n",
       "      <th>Atmospheric Pressure</th>\n",
       "      <th>AQIUS</th>\n",
       "    </tr>\n",
       "  </thead>\n",
       "  <tbody>\n",
       "    <tr>\n",
       "      <th>7087</th>\n",
       "      <td>2/5/2021 0:00</td>\n",
       "      <td>8.56</td>\n",
       "      <td>103.33</td>\n",
       "      <td>84.40</td>\n",
       "      <td>15.95</td>\n",
       "      <td>-0.92</td>\n",
       "      <td>85.69</td>\n",
       "      <td>1021.95</td>\n",
       "      <td>266.08</td>\n",
       "    </tr>\n",
       "    <tr>\n",
       "      <th>7088</th>\n",
       "      <td>2/5/2021 1:00</td>\n",
       "      <td>7.08</td>\n",
       "      <td>89.57</td>\n",
       "      <td>74.65</td>\n",
       "      <td>16.79</td>\n",
       "      <td>-0.26</td>\n",
       "      <td>81.55</td>\n",
       "      <td>1021.26</td>\n",
       "      <td>217.00</td>\n",
       "    </tr>\n",
       "    <tr>\n",
       "      <th>7089</th>\n",
       "      <td>2/5/2021 2:00</td>\n",
       "      <td>5.61</td>\n",
       "      <td>81.22</td>\n",
       "      <td>61.84</td>\n",
       "      <td>14.04</td>\n",
       "      <td>-0.03</td>\n",
       "      <td>80.00</td>\n",
       "      <td>1020.97</td>\n",
       "      <td>195.97</td>\n",
       "    </tr>\n",
       "    <tr>\n",
       "      <th>7090</th>\n",
       "      <td>2/5/2021 3:00</td>\n",
       "      <td>5.84</td>\n",
       "      <td>49.68</td>\n",
       "      <td>40.19</td>\n",
       "      <td>13.00</td>\n",
       "      <td>0.00</td>\n",
       "      <td>80.00</td>\n",
       "      <td>1021.00</td>\n",
       "      <td>183.41</td>\n",
       "    </tr>\n",
       "    <tr>\n",
       "      <th>7091</th>\n",
       "      <td>2/5/2021 4:00</td>\n",
       "      <td>4.61</td>\n",
       "      <td>38.28</td>\n",
       "      <td>31.22</td>\n",
       "      <td>15.71</td>\n",
       "      <td>-0.78</td>\n",
       "      <td>80.00</td>\n",
       "      <td>1020.22</td>\n",
       "      <td>146.19</td>\n",
       "    </tr>\n",
       "    <tr>\n",
       "      <th>...</th>\n",
       "      <td>...</td>\n",
       "      <td>...</td>\n",
       "      <td>...</td>\n",
       "      <td>...</td>\n",
       "      <td>...</td>\n",
       "      <td>...</td>\n",
       "      <td>...</td>\n",
       "      <td>...</td>\n",
       "      <td>...</td>\n",
       "    </tr>\n",
       "    <tr>\n",
       "      <th>7182</th>\n",
       "      <td>2/8/2021 23:00</td>\n",
       "      <td>5.68</td>\n",
       "      <td>61.42</td>\n",
       "      <td>49.00</td>\n",
       "      <td>23.33</td>\n",
       "      <td>6.75</td>\n",
       "      <td>94.75</td>\n",
       "      <td>1016.00</td>\n",
       "      <td>128.03</td>\n",
       "    </tr>\n",
       "    <tr>\n",
       "      <th>7183</th>\n",
       "      <td>2/9/2021 0:00</td>\n",
       "      <td>9.35</td>\n",
       "      <td>69.64</td>\n",
       "      <td>54.42</td>\n",
       "      <td>21.19</td>\n",
       "      <td>7.00</td>\n",
       "      <td>93.00</td>\n",
       "      <td>1016.00</td>\n",
       "      <td>115.51</td>\n",
       "    </tr>\n",
       "    <tr>\n",
       "      <th>7184</th>\n",
       "      <td>2/9/2021 1:00</td>\n",
       "      <td>9.03</td>\n",
       "      <td>51.25</td>\n",
       "      <td>41.53</td>\n",
       "      <td>20.27</td>\n",
       "      <td>2.38</td>\n",
       "      <td>98.30</td>\n",
       "      <td>1017.51</td>\n",
       "      <td>106.41</td>\n",
       "    </tr>\n",
       "    <tr>\n",
       "      <th>7185</th>\n",
       "      <td>2/9/2021 2:00</td>\n",
       "      <td>6.56</td>\n",
       "      <td>42.04</td>\n",
       "      <td>36.07</td>\n",
       "      <td>19.04</td>\n",
       "      <td>1.00</td>\n",
       "      <td>100.00</td>\n",
       "      <td>1018.00</td>\n",
       "      <td>88.92</td>\n",
       "    </tr>\n",
       "    <tr>\n",
       "      <th>7186</th>\n",
       "      <td>2/9/2021 3:00</td>\n",
       "      <td>5.11</td>\n",
       "      <td>44.38</td>\n",
       "      <td>37.56</td>\n",
       "      <td>17.71</td>\n",
       "      <td>0.26</td>\n",
       "      <td>100.00</td>\n",
       "      <td>1018.74</td>\n",
       "      <td>72.91</td>\n",
       "    </tr>\n",
       "  </tbody>\n",
       "</table>\n",
       "<p>100 rows × 9 columns</p>\n",
       "</div>\n",
       "      <button class=\"colab-df-convert\" onclick=\"convertToInteractive('df-03522ca8-917a-4641-972d-f56748cbd7bd')\"\n",
       "              title=\"Convert this dataframe to an interactive table.\"\n",
       "              style=\"display:none;\">\n",
       "        \n",
       "  <svg xmlns=\"http://www.w3.org/2000/svg\" height=\"24px\"viewBox=\"0 0 24 24\"\n",
       "       width=\"24px\">\n",
       "    <path d=\"M0 0h24v24H0V0z\" fill=\"none\"/>\n",
       "    <path d=\"M18.56 5.44l.94 2.06.94-2.06 2.06-.94-2.06-.94-.94-2.06-.94 2.06-2.06.94zm-11 1L8.5 8.5l.94-2.06 2.06-.94-2.06-.94L8.5 2.5l-.94 2.06-2.06.94zm10 10l.94 2.06.94-2.06 2.06-.94-2.06-.94-.94-2.06-.94 2.06-2.06.94z\"/><path d=\"M17.41 7.96l-1.37-1.37c-.4-.4-.92-.59-1.43-.59-.52 0-1.04.2-1.43.59L10.3 9.45l-7.72 7.72c-.78.78-.78 2.05 0 2.83L4 21.41c.39.39.9.59 1.41.59.51 0 1.02-.2 1.41-.59l7.78-7.78 2.81-2.81c.8-.78.8-2.07 0-2.86zM5.41 20L4 18.59l7.72-7.72 1.47 1.35L5.41 20z\"/>\n",
       "  </svg>\n",
       "      </button>\n",
       "      \n",
       "  <style>\n",
       "    .colab-df-container {\n",
       "      display:flex;\n",
       "      flex-wrap:wrap;\n",
       "      gap: 12px;\n",
       "    }\n",
       "\n",
       "    .colab-df-convert {\n",
       "      background-color: #E8F0FE;\n",
       "      border: none;\n",
       "      border-radius: 50%;\n",
       "      cursor: pointer;\n",
       "      display: none;\n",
       "      fill: #1967D2;\n",
       "      height: 32px;\n",
       "      padding: 0 0 0 0;\n",
       "      width: 32px;\n",
       "    }\n",
       "\n",
       "    .colab-df-convert:hover {\n",
       "      background-color: #E2EBFA;\n",
       "      box-shadow: 0px 1px 2px rgba(60, 64, 67, 0.3), 0px 1px 3px 1px rgba(60, 64, 67, 0.15);\n",
       "      fill: #174EA6;\n",
       "    }\n",
       "\n",
       "    [theme=dark] .colab-df-convert {\n",
       "      background-color: #3B4455;\n",
       "      fill: #D2E3FC;\n",
       "    }\n",
       "\n",
       "    [theme=dark] .colab-df-convert:hover {\n",
       "      background-color: #434B5C;\n",
       "      box-shadow: 0px 1px 3px 1px rgba(0, 0, 0, 0.15);\n",
       "      filter: drop-shadow(0px 1px 2px rgba(0, 0, 0, 0.3));\n",
       "      fill: #FFFFFF;\n",
       "    }\n",
       "  </style>\n",
       "\n",
       "      <script>\n",
       "        const buttonEl =\n",
       "          document.querySelector('#df-03522ca8-917a-4641-972d-f56748cbd7bd button.colab-df-convert');\n",
       "        buttonEl.style.display =\n",
       "          google.colab.kernel.accessAllowed ? 'block' : 'none';\n",
       "\n",
       "        async function convertToInteractive(key) {\n",
       "          const element = document.querySelector('#df-03522ca8-917a-4641-972d-f56748cbd7bd');\n",
       "          const dataTable =\n",
       "            await google.colab.kernel.invokeFunction('convertToInteractive',\n",
       "                                                     [key], {});\n",
       "          if (!dataTable) return;\n",
       "\n",
       "          const docLinkHtml = 'Like what you see? Visit the ' +\n",
       "            '<a target=\"_blank\" href=https://colab.research.google.com/notebooks/data_table.ipynb>data table notebook</a>'\n",
       "            + ' to learn more about interactive tables.';\n",
       "          element.innerHTML = '';\n",
       "          dataTable['output_type'] = 'display_data';\n",
       "          await google.colab.output.renderOutput(dataTable, element);\n",
       "          const docLink = document.createElement('div');\n",
       "          docLink.innerHTML = docLinkHtml;\n",
       "          element.appendChild(docLink);\n",
       "        }\n",
       "      </script>\n",
       "    </div>\n",
       "  </div>\n",
       "  "
      ],
      "text/plain": [
       "       Date and time  PM1 (mkg/m³)  PM10(mkg/m³)  PM2.5(mkg/m³)  NO2(mkg/m³)  \\\n",
       "7087   2/5/2021 0:00          8.56        103.33          84.40        15.95   \n",
       "7088   2/5/2021 1:00          7.08         89.57          74.65        16.79   \n",
       "7089   2/5/2021 2:00          5.61         81.22          61.84        14.04   \n",
       "7090   2/5/2021 3:00          5.84         49.68          40.19        13.00   \n",
       "7091   2/5/2021 4:00          4.61         38.28          31.22        15.71   \n",
       "...              ...           ...           ...            ...          ...   \n",
       "7182  2/8/2021 23:00          5.68         61.42          49.00        23.33   \n",
       "7183   2/9/2021 0:00          9.35         69.64          54.42        21.19   \n",
       "7184   2/9/2021 1:00          9.03         51.25          41.53        20.27   \n",
       "7185   2/9/2021 2:00          6.56         42.04          36.07        19.04   \n",
       "7186   2/9/2021 3:00          5.11         44.38          37.56        17.71   \n",
       "\n",
       "      Temperature(°C)  Humidity(%)  Atmospheric Pressure   AQIUS  \n",
       "7087            -0.92        85.69               1021.95  266.08  \n",
       "7088            -0.26        81.55               1021.26  217.00  \n",
       "7089            -0.03        80.00               1020.97  195.97  \n",
       "7090             0.00        80.00               1021.00  183.41  \n",
       "7091            -0.78        80.00               1020.22  146.19  \n",
       "...               ...          ...                   ...     ...  \n",
       "7182             6.75        94.75               1016.00  128.03  \n",
       "7183             7.00        93.00               1016.00  115.51  \n",
       "7184             2.38        98.30               1017.51  106.41  \n",
       "7185             1.00       100.00               1018.00   88.92  \n",
       "7186             0.26       100.00               1018.74   72.91  \n",
       "\n",
       "[100 rows x 9 columns]"
      ]
     },
     "execution_count": 92,
     "metadata": {},
     "output_type": "execute_result"
    }
   ],
   "source": [
    "data.dropna(inplace=True)\n",
    "# print(data)\n",
    "data.head(100)"
   ]
  },
  {
   "cell_type": "markdown",
   "metadata": {
    "id": "kX0dbyopbKD2"
   },
   "source": [
    "b) Then, we performed the feature selection in order to check the relevance of input attributes(features) to our target variable. That was made to reduce the number of unrelevant variables (variables that have very small or even no effect on the target) to increrase the accuracy of the model and reduce the overfitting.\n",
    "\n",
    "\n",
    "\n",
    "\n",
    "So, we applied the Pearson correlation method to see the correlation between each independent variable and the dependent one. "
   ]
  },
  {
   "cell_type": "code",
   "execution_count": 93,
   "metadata": {
    "colab": {
     "base_uri": "https://localhost:8080/",
     "height": 300
    },
    "id": "-cZSGfNyU-oV",
    "outputId": "1a13ba10-0bb1-4cd0-cc49-2c6749336cff"
   },
   "outputs": [
    {
     "data": {
      "text/html": [
       "\n",
       "  <div id=\"df-76c80e0f-311a-438e-8ac8-0c2e5c92bf0d\">\n",
       "    <div class=\"colab-df-container\">\n",
       "      <div>\n",
       "<style scoped>\n",
       "    .dataframe tbody tr th:only-of-type {\n",
       "        vertical-align: middle;\n",
       "    }\n",
       "\n",
       "    .dataframe tbody tr th {\n",
       "        vertical-align: top;\n",
       "    }\n",
       "\n",
       "    .dataframe thead th {\n",
       "        text-align: right;\n",
       "    }\n",
       "</style>\n",
       "<table border=\"1\" class=\"dataframe\">\n",
       "  <thead>\n",
       "    <tr style=\"text-align: right;\">\n",
       "      <th></th>\n",
       "      <th>PM1 (mkg/m³)</th>\n",
       "      <th>PM10(mkg/m³)</th>\n",
       "      <th>PM2.5(mkg/m³)</th>\n",
       "      <th>NO2(mkg/m³)</th>\n",
       "      <th>Temperature(°C)</th>\n",
       "      <th>Humidity(%)</th>\n",
       "      <th>Atmospheric Pressure</th>\n",
       "      <th>AQIUS</th>\n",
       "    </tr>\n",
       "  </thead>\n",
       "  <tbody>\n",
       "    <tr>\n",
       "      <th>PM1 (mkg/m³)</th>\n",
       "      <td>1.000000</td>\n",
       "      <td>0.337964</td>\n",
       "      <td>0.366654</td>\n",
       "      <td>0.034979</td>\n",
       "      <td>-0.350685</td>\n",
       "      <td>0.187297</td>\n",
       "      <td>0.114792</td>\n",
       "      <td>0.735317</td>\n",
       "    </tr>\n",
       "    <tr>\n",
       "      <th>PM10(mkg/m³)</th>\n",
       "      <td>0.337964</td>\n",
       "      <td>1.000000</td>\n",
       "      <td>0.257730</td>\n",
       "      <td>-0.060167</td>\n",
       "      <td>0.234672</td>\n",
       "      <td>-0.220715</td>\n",
       "      <td>-0.031002</td>\n",
       "      <td>0.404323</td>\n",
       "    </tr>\n",
       "    <tr>\n",
       "      <th>PM2.5(mkg/m³)</th>\n",
       "      <td>0.366654</td>\n",
       "      <td>0.257730</td>\n",
       "      <td>1.000000</td>\n",
       "      <td>0.093319</td>\n",
       "      <td>-0.140445</td>\n",
       "      <td>0.055410</td>\n",
       "      <td>0.082044</td>\n",
       "      <td>0.614920</td>\n",
       "    </tr>\n",
       "    <tr>\n",
       "      <th>NO2(mkg/m³)</th>\n",
       "      <td>0.034979</td>\n",
       "      <td>-0.060167</td>\n",
       "      <td>0.093319</td>\n",
       "      <td>1.000000</td>\n",
       "      <td>-0.057718</td>\n",
       "      <td>0.084989</td>\n",
       "      <td>0.006696</td>\n",
       "      <td>0.057020</td>\n",
       "    </tr>\n",
       "    <tr>\n",
       "      <th>Temperature(°C)</th>\n",
       "      <td>-0.350685</td>\n",
       "      <td>0.234672</td>\n",
       "      <td>-0.140445</td>\n",
       "      <td>-0.057718</td>\n",
       "      <td>1.000000</td>\n",
       "      <td>-0.859016</td>\n",
       "      <td>-0.218058</td>\n",
       "      <td>-0.565968</td>\n",
       "    </tr>\n",
       "    <tr>\n",
       "      <th>Humidity(%)</th>\n",
       "      <td>0.187297</td>\n",
       "      <td>-0.220715</td>\n",
       "      <td>0.055410</td>\n",
       "      <td>0.084989</td>\n",
       "      <td>-0.859016</td>\n",
       "      <td>1.000000</td>\n",
       "      <td>0.215104</td>\n",
       "      <td>0.415467</td>\n",
       "    </tr>\n",
       "    <tr>\n",
       "      <th>Atmospheric Pressure</th>\n",
       "      <td>0.114792</td>\n",
       "      <td>-0.031002</td>\n",
       "      <td>0.082044</td>\n",
       "      <td>0.006696</td>\n",
       "      <td>-0.218058</td>\n",
       "      <td>0.215104</td>\n",
       "      <td>1.000000</td>\n",
       "      <td>0.158278</td>\n",
       "    </tr>\n",
       "    <tr>\n",
       "      <th>AQIUS</th>\n",
       "      <td>0.735317</td>\n",
       "      <td>0.404323</td>\n",
       "      <td>0.614920</td>\n",
       "      <td>0.057020</td>\n",
       "      <td>-0.565968</td>\n",
       "      <td>0.415467</td>\n",
       "      <td>0.158278</td>\n",
       "      <td>1.000000</td>\n",
       "    </tr>\n",
       "  </tbody>\n",
       "</table>\n",
       "</div>\n",
       "      <button class=\"colab-df-convert\" onclick=\"convertToInteractive('df-76c80e0f-311a-438e-8ac8-0c2e5c92bf0d')\"\n",
       "              title=\"Convert this dataframe to an interactive table.\"\n",
       "              style=\"display:none;\">\n",
       "        \n",
       "  <svg xmlns=\"http://www.w3.org/2000/svg\" height=\"24px\"viewBox=\"0 0 24 24\"\n",
       "       width=\"24px\">\n",
       "    <path d=\"M0 0h24v24H0V0z\" fill=\"none\"/>\n",
       "    <path d=\"M18.56 5.44l.94 2.06.94-2.06 2.06-.94-2.06-.94-.94-2.06-.94 2.06-2.06.94zm-11 1L8.5 8.5l.94-2.06 2.06-.94-2.06-.94L8.5 2.5l-.94 2.06-2.06.94zm10 10l.94 2.06.94-2.06 2.06-.94-2.06-.94-.94-2.06-.94 2.06-2.06.94z\"/><path d=\"M17.41 7.96l-1.37-1.37c-.4-.4-.92-.59-1.43-.59-.52 0-1.04.2-1.43.59L10.3 9.45l-7.72 7.72c-.78.78-.78 2.05 0 2.83L4 21.41c.39.39.9.59 1.41.59.51 0 1.02-.2 1.41-.59l7.78-7.78 2.81-2.81c.8-.78.8-2.07 0-2.86zM5.41 20L4 18.59l7.72-7.72 1.47 1.35L5.41 20z\"/>\n",
       "  </svg>\n",
       "      </button>\n",
       "      \n",
       "  <style>\n",
       "    .colab-df-container {\n",
       "      display:flex;\n",
       "      flex-wrap:wrap;\n",
       "      gap: 12px;\n",
       "    }\n",
       "\n",
       "    .colab-df-convert {\n",
       "      background-color: #E8F0FE;\n",
       "      border: none;\n",
       "      border-radius: 50%;\n",
       "      cursor: pointer;\n",
       "      display: none;\n",
       "      fill: #1967D2;\n",
       "      height: 32px;\n",
       "      padding: 0 0 0 0;\n",
       "      width: 32px;\n",
       "    }\n",
       "\n",
       "    .colab-df-convert:hover {\n",
       "      background-color: #E2EBFA;\n",
       "      box-shadow: 0px 1px 2px rgba(60, 64, 67, 0.3), 0px 1px 3px 1px rgba(60, 64, 67, 0.15);\n",
       "      fill: #174EA6;\n",
       "    }\n",
       "\n",
       "    [theme=dark] .colab-df-convert {\n",
       "      background-color: #3B4455;\n",
       "      fill: #D2E3FC;\n",
       "    }\n",
       "\n",
       "    [theme=dark] .colab-df-convert:hover {\n",
       "      background-color: #434B5C;\n",
       "      box-shadow: 0px 1px 3px 1px rgba(0, 0, 0, 0.15);\n",
       "      filter: drop-shadow(0px 1px 2px rgba(0, 0, 0, 0.3));\n",
       "      fill: #FFFFFF;\n",
       "    }\n",
       "  </style>\n",
       "\n",
       "      <script>\n",
       "        const buttonEl =\n",
       "          document.querySelector('#df-76c80e0f-311a-438e-8ac8-0c2e5c92bf0d button.colab-df-convert');\n",
       "        buttonEl.style.display =\n",
       "          google.colab.kernel.accessAllowed ? 'block' : 'none';\n",
       "\n",
       "        async function convertToInteractive(key) {\n",
       "          const element = document.querySelector('#df-76c80e0f-311a-438e-8ac8-0c2e5c92bf0d');\n",
       "          const dataTable =\n",
       "            await google.colab.kernel.invokeFunction('convertToInteractive',\n",
       "                                                     [key], {});\n",
       "          if (!dataTable) return;\n",
       "\n",
       "          const docLinkHtml = 'Like what you see? Visit the ' +\n",
       "            '<a target=\"_blank\" href=https://colab.research.google.com/notebooks/data_table.ipynb>data table notebook</a>'\n",
       "            + ' to learn more about interactive tables.';\n",
       "          element.innerHTML = '';\n",
       "          dataTable['output_type'] = 'display_data';\n",
       "          await google.colab.output.renderOutput(dataTable, element);\n",
       "          const docLink = document.createElement('div');\n",
       "          docLink.innerHTML = docLinkHtml;\n",
       "          element.appendChild(docLink);\n",
       "        }\n",
       "      </script>\n",
       "    </div>\n",
       "  </div>\n",
       "  "
      ],
      "text/plain": [
       "                      PM1 (mkg/m³)  PM10(mkg/m³)  PM2.5(mkg/m³)  NO2(mkg/m³)  \\\n",
       "PM1 (mkg/m³)              1.000000      0.337964       0.366654     0.034979   \n",
       "PM10(mkg/m³)              0.337964      1.000000       0.257730    -0.060167   \n",
       "PM2.5(mkg/m³)             0.366654      0.257730       1.000000     0.093319   \n",
       "NO2(mkg/m³)               0.034979     -0.060167       0.093319     1.000000   \n",
       "Temperature(°C)          -0.350685      0.234672      -0.140445    -0.057718   \n",
       "Humidity(%)               0.187297     -0.220715       0.055410     0.084989   \n",
       "Atmospheric Pressure      0.114792     -0.031002       0.082044     0.006696   \n",
       "AQIUS                     0.735317      0.404323       0.614920     0.057020   \n",
       "\n",
       "                      Temperature(°C)  Humidity(%)  Atmospheric Pressure  \\\n",
       "PM1 (mkg/m³)                -0.350685     0.187297              0.114792   \n",
       "PM10(mkg/m³)                 0.234672    -0.220715             -0.031002   \n",
       "PM2.5(mkg/m³)               -0.140445     0.055410              0.082044   \n",
       "NO2(mkg/m³)                 -0.057718     0.084989              0.006696   \n",
       "Temperature(°C)              1.000000    -0.859016             -0.218058   \n",
       "Humidity(%)                 -0.859016     1.000000              0.215104   \n",
       "Atmospheric Pressure        -0.218058     0.215104              1.000000   \n",
       "AQIUS                       -0.565968     0.415467              0.158278   \n",
       "\n",
       "                         AQIUS  \n",
       "PM1 (mkg/m³)          0.735317  \n",
       "PM10(mkg/m³)          0.404323  \n",
       "PM2.5(mkg/m³)         0.614920  \n",
       "NO2(mkg/m³)           0.057020  \n",
       "Temperature(°C)      -0.565968  \n",
       "Humidity(%)           0.415467  \n",
       "Atmospheric Pressure  0.158278  \n",
       "AQIUS                 1.000000  "
      ]
     },
     "execution_count": 93,
     "metadata": {},
     "output_type": "execute_result"
    }
   ],
   "source": [
    "data.corr()"
   ]
  },
  {
   "cell_type": "markdown",
   "metadata": {
    "id": "u7svN-dpbte6"
   },
   "source": [
    "After calculating the correlations, we have deleted the attributes that have zero or close to zero correlation with the target variable as they have very small relevancy to the target variable. They are NO2(mkg/m³) and Atmospheric Pressure. "
   ]
  },
  {
   "cell_type": "code",
   "execution_count": 2,
   "metadata": {
    "colab": {
     "base_uri": "https://localhost:8080/",
     "height": 206
    },
    "id": "SwKWknVrbgW_",
    "outputId": "97b00038-1c63-4e2c-d8be-e2b02e898758"
   },
   "outputs": [
    {
     "data": {
      "text/plain": [
       "(15968, 7)"
      ]
     },
     "execution_count": 2,
     "metadata": {},
     "output_type": "execute_result"
    }
   ],
   "source": [
    "data = data.drop(['Atmospheric Pressure'], axis=1)\n",
    "data = data.drop(['NO2(mkg/m³)'], axis=1)\n",
    "data.head()"
   ]
  },
  {
   "cell_type": "markdown",
   "metadata": {
    "id": "0cRm6B2lFlK8"
   },
   "source": [
    "**Step 3:** Making descriptive statistics for each column to get the basic information (summary) about variables in a dataset. \n",
    "\n",
    "\n",
    "\n",
    "\n",
    "\n"
   ]
  },
  {
   "cell_type": "code",
   "execution_count": 95,
   "metadata": {
    "colab": {
     "base_uri": "https://localhost:8080/",
     "height": 300
    },
    "id": "6geQMH2eFxtU",
    "outputId": "d6f12e3f-8e7f-47d6-c8bc-452c5b4bad5a"
   },
   "outputs": [
    {
     "data": {
      "text/html": [
       "\n",
       "  <div id=\"df-6015efb1-15e7-4d18-bffb-0d9b7e70ba8b\">\n",
       "    <div class=\"colab-df-container\">\n",
       "      <div>\n",
       "<style scoped>\n",
       "    .dataframe tbody tr th:only-of-type {\n",
       "        vertical-align: middle;\n",
       "    }\n",
       "\n",
       "    .dataframe tbody tr th {\n",
       "        vertical-align: top;\n",
       "    }\n",
       "\n",
       "    .dataframe thead th {\n",
       "        text-align: right;\n",
       "    }\n",
       "</style>\n",
       "<table border=\"1\" class=\"dataframe\">\n",
       "  <thead>\n",
       "    <tr style=\"text-align: right;\">\n",
       "      <th></th>\n",
       "      <th>PM1 (mkg/m³)</th>\n",
       "      <th>PM10(mkg/m³)</th>\n",
       "      <th>PM2.5(mkg/m³)</th>\n",
       "      <th>Temperature(°C)</th>\n",
       "      <th>Humidity(%)</th>\n",
       "      <th>AQIUS</th>\n",
       "    </tr>\n",
       "  </thead>\n",
       "  <tbody>\n",
       "    <tr>\n",
       "      <th>count</th>\n",
       "      <td>8881.000000</td>\n",
       "      <td>8881.000000</td>\n",
       "      <td>8881.000000</td>\n",
       "      <td>8881.000000</td>\n",
       "      <td>8881.000000</td>\n",
       "      <td>8881.000000</td>\n",
       "    </tr>\n",
       "    <tr>\n",
       "      <th>mean</th>\n",
       "      <td>8.725450</td>\n",
       "      <td>60.386243</td>\n",
       "      <td>74.685496</td>\n",
       "      <td>13.752384</td>\n",
       "      <td>52.640448</td>\n",
       "      <td>100.691796</td>\n",
       "    </tr>\n",
       "    <tr>\n",
       "      <th>std</th>\n",
       "      <td>7.761667</td>\n",
       "      <td>32.807347</td>\n",
       "      <td>88.461795</td>\n",
       "      <td>11.721253</td>\n",
       "      <td>22.523243</td>\n",
       "      <td>54.604009</td>\n",
       "    </tr>\n",
       "    <tr>\n",
       "      <th>min</th>\n",
       "      <td>0.000000</td>\n",
       "      <td>3.060000</td>\n",
       "      <td>0.870000</td>\n",
       "      <td>-17.500000</td>\n",
       "      <td>7.860000</td>\n",
       "      <td>3.630000</td>\n",
       "    </tr>\n",
       "    <tr>\n",
       "      <th>25%</th>\n",
       "      <td>5.050000</td>\n",
       "      <td>38.950000</td>\n",
       "      <td>19.890000</td>\n",
       "      <td>3.640000</td>\n",
       "      <td>33.420000</td>\n",
       "      <td>58.620000</td>\n",
       "    </tr>\n",
       "    <tr>\n",
       "      <th>50%</th>\n",
       "      <td>6.160000</td>\n",
       "      <td>57.990000</td>\n",
       "      <td>45.870000</td>\n",
       "      <td>12.510000</td>\n",
       "      <td>49.970000</td>\n",
       "      <td>87.240000</td>\n",
       "    </tr>\n",
       "    <tr>\n",
       "      <th>75%</th>\n",
       "      <td>8.600000</td>\n",
       "      <td>76.990000</td>\n",
       "      <td>94.970000</td>\n",
       "      <td>23.280000</td>\n",
       "      <td>72.570000</td>\n",
       "      <td>130.410000</td>\n",
       "    </tr>\n",
       "    <tr>\n",
       "      <th>max</th>\n",
       "      <td>84.360000</td>\n",
       "      <td>515.140000</td>\n",
       "      <td>2953.230000</td>\n",
       "      <td>43.110000</td>\n",
       "      <td>100.000000</td>\n",
       "      <td>500.000000</td>\n",
       "    </tr>\n",
       "  </tbody>\n",
       "</table>\n",
       "</div>\n",
       "      <button class=\"colab-df-convert\" onclick=\"convertToInteractive('df-6015efb1-15e7-4d18-bffb-0d9b7e70ba8b')\"\n",
       "              title=\"Convert this dataframe to an interactive table.\"\n",
       "              style=\"display:none;\">\n",
       "        \n",
       "  <svg xmlns=\"http://www.w3.org/2000/svg\" height=\"24px\"viewBox=\"0 0 24 24\"\n",
       "       width=\"24px\">\n",
       "    <path d=\"M0 0h24v24H0V0z\" fill=\"none\"/>\n",
       "    <path d=\"M18.56 5.44l.94 2.06.94-2.06 2.06-.94-2.06-.94-.94-2.06-.94 2.06-2.06.94zm-11 1L8.5 8.5l.94-2.06 2.06-.94-2.06-.94L8.5 2.5l-.94 2.06-2.06.94zm10 10l.94 2.06.94-2.06 2.06-.94-2.06-.94-.94-2.06-.94 2.06-2.06.94z\"/><path d=\"M17.41 7.96l-1.37-1.37c-.4-.4-.92-.59-1.43-.59-.52 0-1.04.2-1.43.59L10.3 9.45l-7.72 7.72c-.78.78-.78 2.05 0 2.83L4 21.41c.39.39.9.59 1.41.59.51 0 1.02-.2 1.41-.59l7.78-7.78 2.81-2.81c.8-.78.8-2.07 0-2.86zM5.41 20L4 18.59l7.72-7.72 1.47 1.35L5.41 20z\"/>\n",
       "  </svg>\n",
       "      </button>\n",
       "      \n",
       "  <style>\n",
       "    .colab-df-container {\n",
       "      display:flex;\n",
       "      flex-wrap:wrap;\n",
       "      gap: 12px;\n",
       "    }\n",
       "\n",
       "    .colab-df-convert {\n",
       "      background-color: #E8F0FE;\n",
       "      border: none;\n",
       "      border-radius: 50%;\n",
       "      cursor: pointer;\n",
       "      display: none;\n",
       "      fill: #1967D2;\n",
       "      height: 32px;\n",
       "      padding: 0 0 0 0;\n",
       "      width: 32px;\n",
       "    }\n",
       "\n",
       "    .colab-df-convert:hover {\n",
       "      background-color: #E2EBFA;\n",
       "      box-shadow: 0px 1px 2px rgba(60, 64, 67, 0.3), 0px 1px 3px 1px rgba(60, 64, 67, 0.15);\n",
       "      fill: #174EA6;\n",
       "    }\n",
       "\n",
       "    [theme=dark] .colab-df-convert {\n",
       "      background-color: #3B4455;\n",
       "      fill: #D2E3FC;\n",
       "    }\n",
       "\n",
       "    [theme=dark] .colab-df-convert:hover {\n",
       "      background-color: #434B5C;\n",
       "      box-shadow: 0px 1px 3px 1px rgba(0, 0, 0, 0.15);\n",
       "      filter: drop-shadow(0px 1px 2px rgba(0, 0, 0, 0.3));\n",
       "      fill: #FFFFFF;\n",
       "    }\n",
       "  </style>\n",
       "\n",
       "      <script>\n",
       "        const buttonEl =\n",
       "          document.querySelector('#df-6015efb1-15e7-4d18-bffb-0d9b7e70ba8b button.colab-df-convert');\n",
       "        buttonEl.style.display =\n",
       "          google.colab.kernel.accessAllowed ? 'block' : 'none';\n",
       "\n",
       "        async function convertToInteractive(key) {\n",
       "          const element = document.querySelector('#df-6015efb1-15e7-4d18-bffb-0d9b7e70ba8b');\n",
       "          const dataTable =\n",
       "            await google.colab.kernel.invokeFunction('convertToInteractive',\n",
       "                                                     [key], {});\n",
       "          if (!dataTable) return;\n",
       "\n",
       "          const docLinkHtml = 'Like what you see? Visit the ' +\n",
       "            '<a target=\"_blank\" href=https://colab.research.google.com/notebooks/data_table.ipynb>data table notebook</a>'\n",
       "            + ' to learn more about interactive tables.';\n",
       "          element.innerHTML = '';\n",
       "          dataTable['output_type'] = 'display_data';\n",
       "          await google.colab.output.renderOutput(dataTable, element);\n",
       "          const docLink = document.createElement('div');\n",
       "          docLink.innerHTML = docLinkHtml;\n",
       "          element.appendChild(docLink);\n",
       "        }\n",
       "      </script>\n",
       "    </div>\n",
       "  </div>\n",
       "  "
      ],
      "text/plain": [
       "       PM1 (mkg/m³)  PM10(mkg/m³)  PM2.5(mkg/m³)  Temperature(°C)  \\\n",
       "count   8881.000000   8881.000000    8881.000000      8881.000000   \n",
       "mean       8.725450     60.386243      74.685496        13.752384   \n",
       "std        7.761667     32.807347      88.461795        11.721253   \n",
       "min        0.000000      3.060000       0.870000       -17.500000   \n",
       "25%        5.050000     38.950000      19.890000         3.640000   \n",
       "50%        6.160000     57.990000      45.870000        12.510000   \n",
       "75%        8.600000     76.990000      94.970000        23.280000   \n",
       "max       84.360000    515.140000    2953.230000        43.110000   \n",
       "\n",
       "       Humidity(%)        AQIUS  \n",
       "count  8881.000000  8881.000000  \n",
       "mean     52.640448   100.691796  \n",
       "std      22.523243    54.604009  \n",
       "min       7.860000     3.630000  \n",
       "25%      33.420000    58.620000  \n",
       "50%      49.970000    87.240000  \n",
       "75%      72.570000   130.410000  \n",
       "max     100.000000   500.000000  "
      ]
     },
     "execution_count": 95,
     "metadata": {},
     "output_type": "execute_result"
    }
   ],
   "source": [
    "data.describe()"
   ]
  },
  {
   "cell_type": "markdown",
   "metadata": {
    "id": "ABY3S17vGpt1"
   },
   "source": [
    "**Step 4:** Splitting the data into training (80%) and testing (20%) after random shuffling. \n",
    "\n",
    "In order to eliminate the seasonal bias, random shuffling should be performed so that the data will get training observations from each season. \n",
    "\n",
    "\n",
    "However, we have also considered reducing bias by splitting the dataset into training (80%) and testing (20%) equally by every season. This scenario is found in our second notebook (Seasonal DS_Project). "
   ]
  },
  {
   "cell_type": "code",
   "execution_count": 96,
   "metadata": {
    "id": "BbyPK7z3Hc5A"
   },
   "outputs": [],
   "source": [
    "# assigning independed and depended variables\n",
    "X = data.iloc[:, 1:-1].values\n",
    "y = data.iloc[:, 6].values\n",
    "\n",
    "#Training and Testing Data (divide the data into two part)\n",
    "from sklearn.model_selection import train_test_split\n",
    "X_train, X_test, y_train, y_test =train_test_split(X,y,test_size=0.20, random_state=50, shuffle = True)\n",
    "\n",
    "\n",
    "# print(X_train)\n",
    "# print(y_train)"
   ]
  },
  {
   "cell_type": "markdown",
   "metadata": {
    "id": "_CuxCGEGR402"
   },
   "source": [
    "**Step 5:** Applying different regressional models and calculating the accurancies with MAE.\n",
    "\n",
    "\n",
    "\n",
    "For the model application, we have tested five different regression models (Linear Regression, SVR, KNeighboursRegression, XGBoost, and ANN) to compare their efficiencies in terms of accuracy and time. "
   ]
  },
  {
   "cell_type": "markdown",
   "metadata": {
    "id": "JGgZuvkAf9A6"
   },
   "source": [
    "a. First, Linear Regression model was applied on the dataset with its MAE calculated. "
   ]
  },
  {
   "cell_type": "code",
   "execution_count": 97,
   "metadata": {
    "colab": {
     "base_uri": "https://localhost:8080/",
     "height": 298
    },
    "id": "Fms8Q8M_cn15",
    "outputId": "8a455db9-27cb-4ee2-c15e-6048754413fd"
   },
   "outputs": [
    {
     "name": "stdout",
     "output_type": "stream",
     "text": [
      "Accuracy:  79.47914187705146\n"
     ]
    },
    {
     "data": {
      "image/png": "[encoded data removed]",
      "text/plain": [
       "<Figure size 432x288 with 1 Axes>"
      ]
     },
     "metadata": {
      "needs_background": "light"
     },
     "output_type": "display_data"
    }
   ],
   "source": [
    "import matplotlib.pyplot as plt \n",
    "from sklearn.linear_model import LinearRegression\n",
    "from sklearn.metrics import mean_absolute_percentage_error, roc_auc_score, roc_curve, auc\n",
    "\n",
    "\n",
    "lr = LinearRegression()\n",
    "lr.fit(X_train, y_train)\n",
    "y_pred = lr.predict(X_test)\n",
    "MAE = mean_absolute_percentage_error(y_test, y_pred)\n",
    "print(\"Accuracy: \", 100*(1-MAE))\n",
    "acc_lr = 100*(1-MAE)\n",
    "\n",
    "def plotGraph(y_test,y_pred,regressorName): #graph plotting function to display the actual and predicted values\n",
    "    if max(y_test) >= max(y_pred):\n",
    "        my_range = int(max(y_test))\n",
    "    else:\n",
    "        my_range = int(max(y_pred))\n",
    "    plt.plot(range(len(y_test)), y_test, color='blue', label = 'original')\n",
    "    plt.plot(range(len(y_pred)), y_pred, color='red', label = 'predicted')\n",
    "    plt.title(regressorName)\n",
    "    plt.show()\n",
    "    return\n",
    "\n",
    "\n",
    "plotGraph(y_test, y_pred, \"test\")\n",
    "\n",
    "# # print(y_test)\n",
    "# # print(y_pred)\n",
    "# y_pred.shape"
   ]
  },
  {
   "cell_type": "markdown",
   "metadata": {
    "id": "ozAMXSZXu_2k"
   },
   "source": [
    "b. Second, KNeighborsRegressor was applied on the model. "
   ]
  },
  {
   "cell_type": "code",
   "execution_count": 98,
   "metadata": {
    "colab": {
     "base_uri": "https://localhost:8080/",
     "height": 298
    },
    "id": "g9YZuzISaD19",
    "outputId": "f3e3bc42-261a-4dc1-95c8-9530cedb977e"
   },
   "outputs": [
    {
     "name": "stdout",
     "output_type": "stream",
     "text": [
      "Accuracy:  93.27713584498183\n"
     ]
    },
    {
     "data": {
      "image/png": "[encoded data removed]",
      "text/plain": [
       "<Figure size 432x288 with 1 Axes>"
      ]
     },
     "metadata": {
      "needs_background": "light"
     },
     "output_type": "display_data"
    }
   ],
   "source": [
    "from sklearn.neighbors import KNeighborsRegressor\n",
    "lr = KNeighborsRegressor()\n",
    "lr.fit(X_train, y_train)\n",
    "y_pred = lr.predict(X_test)\n",
    "MAE = mean_absolute_percentage_error(y_test, y_pred)\n",
    "print(\"Accuracy: \", 100*(1-MAE))\n",
    "\n",
    "acc_knr = 100*(1-MAE)\n",
    "\n",
    "plotGraph(y_test, y_pred, \"test\")"
   ]
  },
  {
   "cell_type": "markdown",
   "metadata": {
    "id": "saBydlRhrde2"
   },
   "source": [
    "c. Third, Support Vector Regressor (SVR) was applied on the model. "
   ]
  },
  {
   "cell_type": "code",
   "execution_count": 99,
   "metadata": {
    "colab": {
     "base_uri": "https://localhost:8080/",
     "height": 298
    },
    "id": "37pMDvzGZrn7",
    "outputId": "4c0cc92d-ca0e-4cdc-b10a-5a229f631cd1"
   },
   "outputs": [
    {
     "name": "stdout",
     "output_type": "stream",
     "text": [
      "Accuracy:  80.37625334188037\n"
     ]
    },
    {
     "data": {
      "image/png": "[encoded data removed]",
      "text/plain": [
       "<Figure size 432x288 with 1 Axes>"
      ]
     },
     "metadata": {
      "needs_background": "light"
     },
     "output_type": "display_data"
    }
   ],
   "source": [
    "from sklearn.svm import SVR\n",
    "from sklearn.metrics import mean_absolute_percentage_error\n",
    "lr = SVR(kernel='linear')\n",
    "lr.fit(X_train, y_train)\n",
    "y_pred = lr.predict(X_test)\n",
    "MAE = mean_absolute_percentage_error(y_test, y_pred)\n",
    "print(\"Accuracy: \", 100*(1-MAE))\n",
    "acc_svr = 100*(1-MAE)\n",
    "\n",
    "plotGraph(y_test, y_pred, \"test\")"
   ]
  },
  {
   "cell_type": "markdown",
   "metadata": {
    "id": "hc1Q6QAKusCB"
   },
   "source": [
    "d. Fourth, XGBoost was applied on the model with its parameter values being tested for different values (max_depth abd n_estimators). That was done to find the parameter values that give the best accuracy. Moreover, while defining different values for the parameters, we have considered the treshhold values which allow the model to not overfit.  "
   ]
  },
  {
   "cell_type": "code",
   "execution_count": 100,
   "metadata": {
    "colab": {
     "base_uri": "https://localhost:8080/",
     "height": 298
    },
    "id": "dz1j6VUoRyDV",
    "outputId": "abf80991-2514-4ade-8293-79d039fcbbea"
   },
   "outputs": [
    {
     "name": "stdout",
     "output_type": "stream",
     "text": [
      "The best accuracy is: 93.54862831461342 with max depth and n_estimator == 10 and 100\n"
     ]
    },
    {
     "data": {
      "image/png": "[encoded data removed]",
      "text/plain": [
       "<Figure size 432x288 with 1 Axes>"
      ]
     },
     "metadata": {
      "needs_background": "light"
     },
     "output_type": "display_data"
    }
   ],
   "source": [
    "import numpy as np\n",
    "import xgboost as xgb\n",
    "import sklearn.metrics as metrics\n",
    "def FindBestParams(X_train, y_train, X_test, y_test):\n",
    "    \n",
    "    # Defining the list of hyper parameters to try\n",
    "    max_depth_var = [2, 7, 10, 15, 20]\n",
    "    n_estimators_var = [10, 50, 100, 1000]\n",
    "    max = 0;\n",
    "    string_data = \"\"\n",
    "    import pandas as pd\n",
    "    SearchResultsData=pd.DataFrame(columns=['TrialNumber', 'Parameters', 'Accuracy'])\n",
    "    \n",
    "    # initializing the trials\n",
    "    TrialNumber=0\n",
    "    for max_depth_trial in max_depth_var:\n",
    "        for n_estimators_trial in n_estimators_var:\n",
    "            TrialNumber+=1\n",
    "            xg_reg = xgb.XGBRegressor(objective ='reg:squarederror', colsample_bytree = 0.8, learning_rate = 0.3, max_depth = max_depth_trial, alpha = 10, n_estimators = n_estimators_trial)\n",
    "            xg_reg.fit(X_train, y_train)\n",
    "            preds = xg_reg.predict(X_test)\n",
    "            MAE = metrics.mean_absolute_error(y_test, preds)\n",
    "            if max < 100-MAE:\n",
    "                max = 100-MAE\n",
    "                string_data = str(max_depth_trial)+' and '+str(n_estimators_trial)\n",
    "            \n",
    "    print(f'The best accuracy is: {max} with max depth and n_estimator == ' + string_data)\n",
    "    return max\n",
    "\n",
    "acc_xgb=FindBestParams(X_train, y_train, X_test, y_test)\n",
    "\n",
    "\n",
    "plotGraph(y_test, y_pred, \"test\")"
   ]
  },
  {
   "cell_type": "markdown",
   "metadata": {
    "id": "vsb4FnO0e2hr"
   },
   "source": [
    "e. Last, we decided to apply the ANN. For that, we idetified the different values for parameters (batch size and epoch) to identify which ones will give us the best result. Moreover, we have implemented RELU and Linear Regression activation functions in hidden leayers as our dataset variables are at the same time have strong and weak correlations. \n",
    "\n",
    "\n",
    "\n",
    "The outputs have shown very long time of execution and low accuracy (33.42%). So, by applying and testing ANN on our dataset, we made sure that this is not a good approach. For the rapidness of execuation, we have commented all the lines of ANN model, but, in case, you can uncomment them anytime and run to see the evidence. "
   ]
  },
  {
   "cell_type": "code",
   "execution_count": 101,
   "metadata": {
    "id": "1SIiEseSWFQJ"
   },
   "outputs": [],
   "source": [
    "# # importing the libraries\n",
    "# from keras.models import Sequential\n",
    "# from keras.layers import Dense\n",
    "# import numpy as np\n",
    "\n",
    "# def FunctionFindBestParams(X_train, y_train, X_test, y_test):\n",
    "    \n",
    "#     # Defining the list of hyper parameters to try\n",
    "#     batch_size_list=[5, 10, 15, 20]\n",
    "#     epoch_list  =   [5, 10, 50, 100]\n",
    "#     max = 0;\n",
    "#     string_data = \"\"\n",
    "#     y_pred = []\n",
    "#     import pandas as pd\n",
    "#     SearchResultsData=pd.DataFrame(columns=['TrialNumber', 'Parameters', 'Accuracy'])\n",
    "    \n",
    "#     # initializing the trials\n",
    "#     TrialNumber=0\n",
    "#     for batch_size_trial in batch_size_list:\n",
    "#         for epochs_trial in epoch_list:\n",
    "#             TrialNumber+=1\n",
    "#             # create ANN model\n",
    "#             model = Sequential()\n",
    "#             # Defining the first layer of the model\n",
    "#             model.add(Dense(units=5, input_dim=X_train.shape[1], kernel_initializer='normal', activation='relu'))\n",
    " \n",
    "#             # Defining the Second layer of the model\n",
    "#             model.add(Dense(units=5, kernel_initializer='normal', activation='linear'))\n",
    " \n",
    "#             # The output neuron is a single fully connected node \n",
    "#             # Since we will be predicting a single number\n",
    "#             model.add(Dense(1, kernel_initializer='normal'))\n",
    " \n",
    "#             # Compiling the model\n",
    "#             model.compile(loss='mean_squared_error', optimizer='adam')\n",
    " \n",
    "#             # Fitting the ANN to the Training set\n",
    "#             model.fit(X_train, y_train ,batch_size = batch_size_trial, epochs = epochs_trial, verbose=0)\n",
    "            \n",
    "#             MAPE = np.mean(100 * (np.abs(y_test-model.predict(X_test))/y_test))\n",
    "#             if max < 100-MAPE:\n",
    "#                 max = 100-MAPE\n",
    "#                 string_data = str(batch_size_trial)+' and '+str(epochs_trial)\n",
    "                \n",
    "\n",
    "#     print(f'The best accuracy is: {max} with batch size and epoch == ' + string_data)\n",
    "#     return max,y_pred;\n",
    " \n",
    "# acc_ann,y_pred = FunctionFindBestParams(X_train, y_train, X_test, y_test)\n",
    "acc_ann = 33.42"
   ]
  },
  {
   "cell_type": "markdown",
   "metadata": {
    "id": "9m0-Ls4Dwmfg"
   },
   "source": [
    "**Step 6:** Evalutation \n",
    "\n",
    "Since while applying the models, we have also tested for the accuracy using Mean Absolute Error, we visualized the comparison of the accuracies of algorithms to demonstrate which model fits (predicts) best. "
   ]
  },
  {
   "cell_type": "code",
   "execution_count": 103,
   "metadata": {
    "colab": {
     "base_uri": "https://localhost:8080/",
     "height": 376
    },
    "id": "ksw4Os57kx6o",
    "outputId": "97450ca9-58bb-40cb-ffdb-9ff85b46f319"
   },
   "outputs": [
    {
     "data": {
      "image/png": "[encoded data removed]",
      "text/plain": [
       "<Figure size 1080x360 with 1 Axes>"
      ]
     },
     "metadata": {
      "needs_background": "light"
     },
     "output_type": "display_data"
    },
    {
     "name": "stdout",
     "output_type": "stream",
     "text": [
      "[93.54862831461342, 93.27713584498183, 80.37625334188037, 79.47914187705146, 33.42]\n"
     ]
    }
   ],
   "source": [
    "labels= ['LinearRegression','SVR','KNeighborsRegressor','XGBoost', 'ANN']\n",
    "acc_list = [acc_lr,acc_svr,acc_knr,acc_xgb, acc_ann]\n",
    "length=np.arange(len(labels))\n",
    "accuracy = pd.DataFrame({\"Algorithm\":labels,\"Accuracy\":acc_list})\n",
    "accuracy.sort_values(by='Accuracy',ascending=False,inplace=True)\n",
    "\n",
    "plt.figure(figsize=(15,5))\n",
    "plt.title(\"Algorithm accuracy comparison for Scenario 1\", fontsize=18)\n",
    "plt.bar(length,accuracy[\"Accuracy\"],color=\"green\")\n",
    "plt.xticks(length,accuracy[\"Algorithm\"])\n",
    "plt.xlabel('Algorithm',fontsize=15)\n",
    "plt.ylabel('Accuracy', fontsize=15)\n",
    "plt.show()\n",
    "acc_list.sort(reverse = True)\n",
    "print(acc_list)"
   ]
  },
  {
   "cell_type": "markdown",
   "metadata": {
    "id": "HlOzYBv55R6A"
   },
   "source": [
    "All in all, XGBoost algorithm fits best to our dataset. "
   ]
  }
 ],
 "metadata": {
  "accelerator": "GPU",
  "colab": {
   "collapsed_sections": [],
   "name": "DS_Project (Scenario 1 - random splitting).ipynb",
   "provenance": []
  },
  "kernelspec": {
   "display_name": "Python 3 (ipykernel)",
   "language": "python",
   "name": "python3"
  },
  "language_info": {
   "codemirror_mode": {
    "name": "ipython",
    "version": 3
   },
   "file_extension": ".py",
   "mimetype": "text/x-python",
   "name": "python",
   "nbconvert_exporter": "python",
   "pygments_lexer": "ipython3",
   "version": "3.9.7"
  }
 },
 "nbformat": 4,
 "nbformat_minor": 1
}
